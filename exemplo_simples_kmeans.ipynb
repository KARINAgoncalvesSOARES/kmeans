{
  "nbformat": 4,
  "nbformat_minor": 0,
  "metadata": {
    "colab": {
      "provenance": [],
      "authorship_tag": "ABX9TyPApdwGXcZyfRu+qSNMLCWT",
      "include_colab_link": true
    },
    "kernelspec": {
      "name": "python3",
      "display_name": "Python 3"
    },
    "language_info": {
      "name": "python"
    }
  },
  "cells": [
    {
      "cell_type": "markdown",
      "metadata": {
        "id": "view-in-github",
        "colab_type": "text"
      },
      "source": [
        "<a href=\"https://colab.research.google.com/github/KARINAgoncalvesSOARES/kmeans/blob/main/exemplo_simples_kmeans.ipynb\" target=\"_parent\"><img src=\"https://colab.research.google.com/assets/colab-badge.svg\" alt=\"Open In Colab\"/></a>"
      ]
    },
    {
      "cell_type": "markdown",
      "source": [
        "\\## <h2 align=\"center\"> Exemplo de código Python simples para o algoritmo de clusterização k-means\n",
        "\n",
        "Data Scientist.: Karina Gonçalves Soares\n"
      ],
      "metadata": {
        "id": "hSwJxzPtlU5o"
      }
    },
    {
      "cell_type": "markdown",
      "source": [
        "K-means é um algoritmo de clusterização não supervisionada utilizado para particionar um conjunto de dados em k clusters, onde k é um número pré-definido. O objetivo do algoritmo é encontrar k centróides que representem os k clusters de maneira ótima, minimizando a soma dos quadrados das distâncias entre os pontos e seus respectivos centróides.\n",
        "\n"
      ],
      "metadata": {
        "id": "kp5bCWoyn72q"
      }
    },
    {
      "cell_type": "code",
      "execution_count": 1,
      "metadata": {
        "id": "b83V83sWi6Og"
      },
      "outputs": [],
      "source": [
        "import numpy as np\n",
        "from sklearn.cluster import KMeans"
      ]
    },
    {
      "cell_type": "code",
      "source": [
        "# Gerando dados aleatórios\n",
        "X = np.random.random((100,2))\n",
        "\n",
        "# Definindo o número de clusters\n",
        "kmeans = KMeans(n_clusters=3)\n",
        "\n",
        "# Treinando o modelo com os dados\n",
        "kmeans.fit(X)\n",
        "\n",
        "# Obtendo os rótulos dos clusters e os centróides\n",
        "labels = kmeans.labels_\n",
        "centroids = kmeans.cluster_centers_\n",
        "\n",
        "# Imprimindo os resultados\n",
        "print(\"Rótulos dos clusters: \", labels)\n",
        "print(\"Centróides dos clusters: \", centroids)"
      ],
      "metadata": {
        "colab": {
          "base_uri": "https://localhost:8080/"
        },
        "id": "k1VLJfzckb8M",
        "outputId": "cdc6b1df-7879-4d10-e98e-f55336a98704"
      },
      "execution_count": 4,
      "outputs": [
        {
          "output_type": "stream",
          "name": "stderr",
          "text": [
            "/usr/local/lib/python3.9/dist-packages/sklearn/cluster/_kmeans.py:870: FutureWarning: The default value of `n_init` will change from 10 to 'auto' in 1.4. Set the value of `n_init` explicitly to suppress the warning\n",
            "  warnings.warn(\n"
          ]
        },
        {
          "output_type": "stream",
          "name": "stdout",
          "text": [
            "Rótulos dos clusters:  [0 2 1 2 0 1 1 2 1 2 0 0 1 0 1 2 2 1 1 0 1 1 0 2 2 1 2 2 1 2 1 0 2 2 0 1 1\n",
            " 2 1 0 1 2 2 2 0 1 0 0 2 2 1 0 2 1 2 0 1 2 0 2 1 1 2 2 2 2 0 2 2 2 0 1 2 1\n",
            " 0 1 1 0 1 0 2 0 1 2 2 2 2 2 1 0 2 0 0 1 0 0 2 2 2 0]\n",
            "Centróides dos clusters:  [[0.38399305 0.19450599]\n",
            " [0.25018154 0.70995678]\n",
            " [0.82094196 0.55041238]]\n"
          ]
        }
      ]
    },
    {
      "cell_type": "markdown",
      "source": [
        "Explicação:\n",
        "\n",
        "1. Importamos as bibliotecas necessárias, incluindo a biblioteca scikit-learn que contém a implementação do k-means.\n",
        "2. Geramos dados aleatórios com numpy para testar o algoritmo.\n",
        "3. Definimos o número de clusters como 3.\n",
        "4. Treinamos o modelo com os dados de entrada.\n",
        "5. Obtemos os rótulos dos clusters e os centróides para cada cluster.\n",
        "6. Imprimimos os resultados na tela.\n",
        "\n",
        "Este código é apenas um exemplo básico. O algoritmo k-means tem muitas outras opções de parâmetros, como o critério de convergência, o número máximo de iterações e a inicialização dos centróides. Além disso, é importante pré-processar os dados adequadamente antes de aplicar o algoritmo para garantir resultados precisos e significativos.\n",
        "\n",
        "\n",
        "\n"
      ],
      "metadata": {
        "id": "X0yKfy7qkmIp"
      }
    }
  ]
}